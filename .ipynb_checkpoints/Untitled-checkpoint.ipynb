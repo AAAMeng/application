{
 "cells": [
  {
   "cell_type": "code",
   "execution_count": 1,
   "metadata": {},
   "outputs": [
    {
     "ename": "ModuleNotFoundError",
     "evalue": "No module named 'app'",
     "output_type": "error",
     "traceback": [
      "\u001b[1;31m---------------------------------------------------------------------------\u001b[0m",
      "\u001b[1;31mModuleNotFoundError\u001b[0m                       Traceback (most recent call last)",
      "\u001b[1;32m<ipython-input-1-4babc5fd31a7>\u001b[0m in \u001b[0;36m<module>\u001b[1;34m\u001b[0m\n\u001b[0;32m      2\u001b[0m \u001b[1;31m# -*- coding: utf-8 -*-\u001b[0m\u001b[1;33m\u001b[0m\u001b[1;33m\u001b[0m\u001b[0m\n\u001b[0;32m      3\u001b[0m \u001b[1;32mimport\u001b[0m \u001b[0mos\u001b[0m\u001b[1;33m\u001b[0m\u001b[0m\n\u001b[1;32m----> 4\u001b[1;33m \u001b[1;32mfrom\u001b[0m \u001b[0mapp\u001b[0m \u001b[1;32mimport\u001b[0m \u001b[0mapp\u001b[0m\u001b[1;33m\u001b[0m\u001b[0m\n\u001b[0m\u001b[0;32m      5\u001b[0m \u001b[1;32mimport\u001b[0m \u001b[0mdash_core_components\u001b[0m \u001b[1;32mas\u001b[0m \u001b[0mdcc\u001b[0m\u001b[1;33m\u001b[0m\u001b[0m\n\u001b[0;32m      6\u001b[0m \u001b[1;32mimport\u001b[0m \u001b[0mdash_html_components\u001b[0m \u001b[1;32mas\u001b[0m \u001b[0mhtml\u001b[0m\u001b[1;33m\u001b[0m\u001b[0m\n",
      "\u001b[1;31mModuleNotFoundError\u001b[0m: No module named 'app'"
     ]
    }
   ],
   "source": [
    "#!/usr/bin/env python3\n",
    "# -*- coding: utf-8 -*-\n",
    "import os\n",
    "import dash_core_components as dcc\n",
    "import dash_html_components as html\n",
    "import pandas as pd\n",
    "import plotly.graph_objs as go\n",
    "from dash.dependencies import Input, Output\n",
    "\n",
    "df = pd.read_csv('https://raw.githubusercontent.com/plotly/datasets/master/Emissions%20Data.csv')\n",
    "\n",
    "if 'DYNO' in os.environ:\n",
    "    app_name = os.environ['DASH_APP_NAME']\n",
    "else:\n",
    "    app_name = 'dash-boxplot'\n",
    "\n",
    "layout = html.Div([html.Div([\n",
    "        html.H1(\"Greenhouse Gas Emissions by Continent\")], style={\"textAlign\": \"center\"}),\n",
    "        dcc.Graph(id=\"my-graph\"),\n",
    "        html.Div([dcc.RangeSlider(id=\"selected-continent\",min=2008,max=2011,\n",
    "                 marks={2008: \"2008\", 2009: \"2009\", 2010: \"2010\", 2011: \"2011\"},value=[2008, 2010],)],\n",
    "                 style={\"display\": \"block\",\"margin-left\": \"auto\",\"margin-right\": \"auto\",\"width\": \"60%\"}),\n",
    "], className=\"container\")\n",
    "\n",
    "\n",
    "@app.callback(\n",
    "    Output('my-graph', 'figure'),\n",
    "    [Input('selected-continent', 'value')])\n",
    "def update_figure(selected):\n",
    "    dff = df[(df[\"Year\"] >= selected[0]) & (df[\"Year\"] <= selected[1])]\n",
    "    traces = []\n",
    "    for continent in dff.Continent.unique():\n",
    "        traces.append(go.Box(y=dff[dff[\"Continent\"] == continent][\"Emission\"],name=continent,marker={\"size\": 4}))\n",
    "    return {\"data\": traces,\n",
    "            \"layout\": go.Layout(title=f\"Emission Levels for {'-'.join(str(i) for i in selected)}\",autosize=True,\n",
    "                                margin={\"l\": 200, \"b\": 100, \"r\": 200},xaxis={\"showticklabels\": False,},\n",
    "                                yaxis={\"title\": f\"Emissions (gigatonnes of CO2)\",\"type\": \"log\",},)}"
   ]
  },
  {
   "cell_type": "code",
   "execution_count": null,
   "metadata": {},
   "outputs": [],
   "source": []
  }
 ],
 "metadata": {
  "kernelspec": {
   "display_name": "Python 3",
   "language": "python",
   "name": "python3"
  }
 },
 "nbformat": 4,
 "nbformat_minor": 2
}
